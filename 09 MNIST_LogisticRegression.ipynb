{
 "cells": [
  {
   "cell_type": "markdown",
   "metadata": {
    "id": "gmKs6ly_a9HR"
   },
   "source": [
    "# Classification with MNIST Dataset"
   ]
  },
  {
   "cell_type": "markdown",
   "metadata": {
    "id": "0yPPbRvZa9Ha"
   },
   "source": [
    "### 1. Import Dataset"
   ]
  },
  {
   "cell_type": "code",
   "execution_count": 1,
   "metadata": {
    "id": "ifdl3Veha9Hb"
   },
   "outputs": [],
   "source": [
    "from sklearn import datasets\n",
    "\n",
    "digits = datasets.load_digits()  # Import MNIST dataset"
   ]
  },
  {
   "cell_type": "code",
   "execution_count": 2,
   "metadata": {
    "colab": {
     "base_uri": "https://localhost:8080/"
    },
    "id": "JqJFUAFia9Hc",
    "outputId": "2d338ba6-59e3-4f8e-ee8f-fcf08a8a1512"
   },
   "outputs": [
    {
     "name": "stdout",
     "output_type": "stream",
     "text": [
      "[0 1 2 3 4 5 6 7 8 9]\n"
     ]
    }
   ],
   "source": [
    "X = digits.data\n",
    "y = digits.target\n",
    "\n",
    "print (digits.target_names) # see digits"
   ]
  },
  {
   "cell_type": "markdown",
   "metadata": {
    "id": "Svl5-YIta9Hd"
   },
   "source": [
    "Example X[0]"
   ]
  },
  {
   "cell_type": "code",
   "execution_count": 3,
   "metadata": {
    "colab": {
     "base_uri": "https://localhost:8080/"
    },
    "id": "xjsDClWma9Hd",
    "outputId": "029d6a90-321c-4284-b56a-84e2a3ff4ff3"
   },
   "outputs": [
    {
     "name": "stdout",
     "output_type": "stream",
     "text": [
      "[ 0.  0.  5. 13.  9.  1.  0.  0.  0.  0. 13. 15. 10. 15.  5.  0.  0.  3.\n",
      " 15.  2.  0. 11.  8.  0.  0.  4. 12.  0.  0.  8.  8.  0.  0.  5.  8.  0.\n",
      "  0.  9.  8.  0.  0.  4. 11.  0.  1. 12.  7.  0.  0.  2. 14.  5. 10. 12.\n",
      "  0.  0.  0.  0.  6. 13. 10.  0.  0.  0.]\n"
     ]
    }
   ],
   "source": [
    "print (X[0])"
   ]
  },
  {
   "cell_type": "code",
   "execution_count": 4,
   "metadata": {
    "colab": {
     "base_uri": "https://localhost:8080/",
     "height": 265
    },
    "id": "2Y_M_XPKa9He",
    "outputId": "93194269-2992-48a2-834e-7bc15b5707f6"
   },
   "outputs": [
    {
     "data": {
      "image/png": "[encoded data removed]",
      "text/plain": [
       "<Figure size 432x288 with 1 Axes>"
      ]
     },
     "metadata": {
      "needs_background": "light"
     },
     "output_type": "display_data"
    }
   ],
   "source": [
    "import matplotlib.pyplot as plt\n",
    "import numpy as np\n",
    "\n",
    "# Test in 0\n",
    "plt.imshow(np.reshape(X[0], (8,8)), cmap=plt.cm.gray)\n",
    "plt.show()"
   ]
  },
  {
   "cell_type": "markdown",
   "metadata": {
    "id": "1e-WEdIja9He"
   },
   "source": [
    "### 2. Displat data 0-9 digits"
   ]
  },
  {
   "cell_type": "code",
   "execution_count": 5,
   "metadata": {
    "id": "d9631Hgqa9Hf"
   },
   "outputs": [],
   "source": [
    "import matplotlib.pyplot as plt\n",
    "import numpy as np"
   ]
  },
  {
   "cell_type": "code",
   "execution_count": 6,
   "metadata": {
    "colab": {
     "base_uri": "https://localhost:8080/",
     "height": 174
    },
    "id": "VeZ_59aqa9Hf",
    "outputId": "b8f921ba-dd52-4c9c-e828-74eb6af8f5db"
   },
   "outputs": [
    {
     "data": {
      "image/png": "[encoded data removed]",
      "text/plain": [
       "<Figure size 1440x720 with 10 Axes>"
      ]
     },
     "metadata": {
      "needs_background": "light"
     },
     "output_type": "display_data"
    }
   ],
   "source": [
    "plt.figure(figsize=(20,10))\n",
    "\n",
    "for index, (image, label) in enumerate(zip(X[0:10], y[0:10])):\n",
    "    plt.subplot(1, 10, index + 1)\n",
    "    plt.imshow(np.reshape(image, (8,8)), cmap=plt.cm.gray) #gray\n",
    "    plt.title('%i\\n' % label, fontsize = 18)"
   ]
  },
  {
   "cell_type": "code",
   "execution_count": 7,
   "metadata": {
    "colab": {
     "base_uri": "https://localhost:8080/",
     "height": 174
    },
    "id": "nXwyv8CNa9Hf",
    "outputId": "2afe51e1-885b-4fd9-cae6-b98d05ccd7cd"
   },
   "outputs": [
    {
     "data": {
      "image/png": "[encoded data removed]",
      "text/plain": [
       "<Figure size 1296x576 with 10 Axes>"
      ]
     },
     "metadata": {
      "needs_background": "light"
     },
     "output_type": "display_data"
    }
   ],
   "source": [
    "plt.figure(figsize=(18,8))\n",
    "\n",
    "for index, (image, label) in enumerate(zip(X[0:10], y[0:10])):\n",
    "    plt.subplot(1, 10, index + 1)\n",
    "    plt.imshow(np.reshape(image, (8,8)), cmap=plt.cm.viridis) #viridis\n",
    "    plt.title('%i\\n' % label, fontsize = 18)"
   ]
  },
  {
   "cell_type": "markdown",
   "metadata": {
    "id": "5l11mFTla9Hg"
   },
   "source": [
    "### 3.Split for Train/Test Model"
   ]
  },
  {
   "cell_type": "markdown",
   "metadata": {
    "id": "orG7aURja9Hg"
   },
   "source": [
    "Library sklearn\n",
    "\n",
    "* Logistic Regression (Algorithm for Classification) in  Linear Model\n",
    "* train / test split (train / test) in model selection"
   ]
  },
  {
   "cell_type": "code",
   "execution_count": 8,
   "metadata": {
    "id": "chlOfEU_a9Hh"
   },
   "outputs": [],
   "source": [
    "from sklearn.linear_model import LogisticRegression\n",
    "from sklearn.model_selection import train_test_split"
   ]
  },
  {
   "cell_type": "code",
   "execution_count": 9,
   "metadata": {
    "id": "ZUge8ofda9Hh"
   },
   "outputs": [],
   "source": [
    "X_train, X_test, y_train, y_test = train_test_split(X, y, test_size=0.30, random_state=0) # Train 70%, Test 30%"
   ]
  },
  {
   "cell_type": "code",
   "execution_count": 10,
   "metadata": {
    "colab": {
     "base_uri": "https://localhost:8080/"
    },
    "id": "UaBRSn1Ka9Hj",
    "outputId": "747dd420-5491-4230-f515-55faf5bcbadc"
   },
   "outputs": [
    {
     "name": "stdout",
     "output_type": "stream",
     "text": [
      "(1257, 64)\n",
      "(540, 64)\n"
     ]
    }
   ],
   "source": [
    "print (X_train.shape)\n",
    "print (X_test.shape)"
   ]
  },
  {
   "cell_type": "markdown",
   "metadata": {
    "id": "Qk98Ydora9Hk"
   },
   "source": [
    "### 4. Logistic Regression Model in name of \"LogReg\" \n",
    "* Train model with X_train, y_train"
   ]
  },
  {
   "cell_type": "code",
   "execution_count": 11,
   "metadata": {
    "id": "Ujp6m62ya9Hk"
   },
   "outputs": [],
   "source": [
    "LogReg = LogisticRegression()"
   ]
  },
  {
   "cell_type": "code",
   "execution_count": 12,
   "metadata": {
    "colab": {
     "base_uri": "https://localhost:8080/"
    },
    "id": "RRH9eQwQa9Hk",
    "outputId": "5f6416cc-0846-4d26-a6a6-44422945d015"
   },
   "outputs": [
    {
     "name": "stderr",
     "output_type": "stream",
     "text": [
      "C:\\Users\\HP\\anaconda3\\lib\\site-packages\\sklearn\\linear_model\\_logistic.py:762: ConvergenceWarning: lbfgs failed to converge (status=1):\n",
      "STOP: TOTAL NO. of ITERATIONS REACHED LIMIT.\n",
      "\n",
      "Increase the number of iterations (max_iter) or scale the data as shown in:\n",
      "    https://scikit-learn.org/stable/modules/preprocessing.html\n",
      "Please also refer to the documentation for alternative solver options:\n",
      "    https://scikit-learn.org/stable/modules/linear_model.html#logistic-regression\n",
      "  n_iter_i = _check_optimize_result(\n"
     ]
    },
    {
     "data": {
      "text/plain": [
       "LogisticRegression()"
      ]
     },
     "execution_count": 12,
     "metadata": {},
     "output_type": "execute_result"
    }
   ],
   "source": [
    "LogReg.fit(X_train, y_train)"
   ]
  },
  {
   "cell_type": "markdown",
   "metadata": {
    "id": "g7rWps9Fa9Hl"
   },
   "source": [
    "### 5. Evaluation Model with test data (X_test, y_test)"
   ]
  },
  {
   "cell_type": "markdown",
   "metadata": {
    "id": "TFzjgk6ma9Hl"
   },
   "source": [
    "* Accuracy Score"
   ]
  },
  {
   "cell_type": "code",
   "execution_count": 13,
   "metadata": {
    "id": "AZnOfDjKa9Hl"
   },
   "outputs": [],
   "source": [
    "y_pred = LogReg.predict(X_test) "
   ]
  },
  {
   "cell_type": "code",
   "execution_count": 14,
   "metadata": {
    "colab": {
     "base_uri": "https://localhost:8080/"
    },
    "id": "ALF1FTONa9Hl",
    "outputId": "9bad663d-4af0-4a05-e8be-5c15b5363fff"
   },
   "outputs": [
    {
     "name": "stdout",
     "output_type": "stream",
     "text": [
      "Accuracy = 95.37\n"
     ]
    }
   ],
   "source": [
    "score = LogReg.score(X_test, y_test)\n",
    "score = round(score*100, 2)\n",
    "print('Accuracy =', score)"
   ]
  },
  {
   "cell_type": "markdown",
   "metadata": {
    "id": "fn7htYKIa9Hm"
   },
   "source": [
    "* Confusion Matrix"
   ]
  },
  {
   "cell_type": "code",
   "execution_count": 15,
   "metadata": {
    "colab": {
     "base_uri": "https://localhost:8080/"
    },
    "id": "UD4OEEoEa9Hm",
    "outputId": "931cad99-c273-4d10-cdcd-a0cf9713a3c8"
   },
   "outputs": [
    {
     "data": {
      "text/plain": [
       "array([[45,  0,  0,  0,  0,  0,  0,  0,  0,  0],\n",
       "       [ 0, 49,  0,  0,  0,  0,  0,  0,  2,  1],\n",
       "       [ 0,  2, 49,  2,  0,  0,  0,  0,  0,  0],\n",
       "       [ 0,  0,  0, 52,  0,  0,  0,  0,  1,  1],\n",
       "       [ 0,  0,  0,  0, 47,  0,  0,  1,  0,  0],\n",
       "       [ 0,  0,  0,  0,  0, 55,  0,  0,  0,  2],\n",
       "       [ 0,  1,  0,  0,  0,  0, 59,  0,  0,  0],\n",
       "       [ 0,  0,  0,  1,  1,  0,  0, 51,  0,  0],\n",
       "       [ 0,  3,  1,  0,  0,  0,  0,  0, 53,  4],\n",
       "       [ 0,  0,  0,  0,  0,  1,  0,  0,  1, 55]], dtype=int64)"
      ]
     },
     "execution_count": 15,
     "metadata": {},
     "output_type": "execute_result"
    }
   ],
   "source": [
    "from sklearn.metrics import confusion_matrix\n",
    "\n",
    "confusion_matrix(y_test, y_pred)"
   ]
  },
  {
   "cell_type": "code",
   "execution_count": 16,
   "metadata": {
    "id": "Ly1B9-Yua9Hm"
   },
   "outputs": [],
   "source": [
    "import seaborn as sns"
   ]
  },
  {
   "cell_type": "code",
   "execution_count": 17,
   "metadata": {
    "id": "YhopL2yka9Hm"
   },
   "outputs": [],
   "source": [
    "cm = confusion_matrix(y_test, y_pred)"
   ]
  },
  {
   "cell_type": "code",
   "execution_count": 18,
   "metadata": {
    "colab": {
     "base_uri": "https://localhost:8080/",
     "height": 567
    },
    "id": "joCsfzuka9Hn",
    "outputId": "849d49e2-dbb6-4823-83d6-3b6fe898d9c6"
   },
   "outputs": [
    {
     "data": {
      "image/png": "[encoded data removed]",
      "text/plain": [
       "<Figure size 648x648 with 2 Axes>"
      ]
     },
     "metadata": {
      "needs_background": "light"
     },
     "output_type": "display_data"
    }
   ],
   "source": [
    "plt.figure(figsize=(9,9))\n",
    "sns.heatmap(cm, annot=True, fmt=\".0f\", linewidths=1, cmap = 'Blues_r');\n",
    "plt.ylabel('Actual');\n",
    "plt.xlabel('Predict');\n",
    "figure_title = 'Accuracy Score = {0}'.format(score)\n",
    "plt.title(figure_title, size = 12);"
   ]
  }
 ],
 "metadata": {
  "colab": {
   "name": "Classification_MNIST_01.ipynb",
   "provenance": []
  },
  "kernelspec": {
   "display_name": "Python 3",
   "language": "python",
   "name": "python3"
  },
  "language_info": {
   "codemirror_mode": {
    "name": "ipython",
    "version": 3
   },
   "file_extension": ".py",
   "mimetype": "text/x-python",
   "name": "python",
   "nbconvert_exporter": "python",
   "pygments_lexer": "ipython3",
   "version": "3.8.5"
  }
 },
 "nbformat": 4,
 "nbformat_minor": 1
}
